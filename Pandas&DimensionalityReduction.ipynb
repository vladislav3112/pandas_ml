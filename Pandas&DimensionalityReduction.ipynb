{
  "cells": [
    {
      "cell_type": "code",
      "execution_count": 1,
      "id": "9cc259d8",
      "metadata": {
        "id": "9cc259d8"
      },
      "outputs": [],
      "source": [
        "import pandas as pd\n",
        "import numpy as np"
      ]
    },
    {
      "cell_type": "markdown",
      "id": "984f836d",
      "metadata": {
        "id": "984f836d"
      },
      "source": [
        "#### Загрузить данные в pandas по url=https://raw.githubusercontent.com/justmarkham/DAT8/master/data/chipotle.tsv"
      ]
    },
    {
      "cell_type": "code",
      "execution_count": 2,
      "id": "5CMxPlMKIOBN",
      "metadata": {
        "id": "5CMxPlMKIOBN"
      },
      "outputs": [],
      "source": [
        "url = \"https://raw.githubusercontent.com/justmarkham/DAT8/master/data/chipotle.tsv\"\n",
        "df = pd.read_csv(url, sep='\\t', header=0)"
      ]
    },
    {
      "cell_type": "markdown",
      "id": "1a64282e",
      "metadata": {
        "id": "1a64282e"
      },
      "source": [
        "#### 1. Вывести: кол-во наблюдений в датасете\n",
        "#### 2. Вывести названия столбцов\n",
        "#### 3. Определить самую частую позицию (item) в заказе \n",
        "#### 4. Построить гистрограмму частоты заказов по позициям (item )\n",
        "#### 5. Измените тип переменной item_price c с помощью лямбды функции\n",
        "#### 6. Построить гистограмму кол-во денег заработанных по каждой позиции (item)\n",
        "#### 7. Средняя сумма заказа? (минимум 2 способа)\n",
        "#### 8. Выведите среднее, минимальное и максимальное, медианное значения позиций в заказе\n",
        "#### 9. Определить статистику заказов стейков, а также статистику заказов прожарки.\n",
        "#### 10. Добавить новый столбец цен на каждую позицию в заказе в рублях.\n",
        "#### 11. Сгруппировать заказы по входящим позициям в него. Отдельно сгруппировать по стейкам во всех видах прожарках.\n",
        "#### 12. Определить цену по каждой позиции в отдельности. \n"
      ]
    },
    {
      "cell_type": "code",
      "execution_count": 13,
      "id": "965cfec3",
      "metadata": {
        "colab": {
          "base_uri": "https://localhost:8080/",
          "height": 576
        },
        "id": "965cfec3",
        "outputId": "d4ad3f33-4cda-4d30-e6fb-0f958de85652"
      },
      "outputs": [
        {
          "name": "stdout",
          "output_type": "stream",
          "text": [
            "4622\n",
            "['order_id', 'quantity', 'item_name', 'choice_description', 'item_price']\n",
            "Veggie Soft Tacos\n"
          ]
        },
        {
          "data": {
            "image/png": "[encoded data removed]",
            "text/plain": [
              "<Figure size 432x288 with 1 Axes>"
            ]
          },
          "metadata": {
            "needs_background": "light"
          },
          "output_type": "display_data"
        },
        {
          "data": {
            "image/png": "[encoded data removed]",
            "text/plain": [
              "<Figure size 432x288 with 1 Axes>"
            ]
          },
          "metadata": {
            "needs_background": "light"
          },
          "output_type": "display_data"
        },
        {
          "name": "stdout",
          "output_type": "stream",
          "text": [
            "7.464335785374297\n",
            "7.464335785374297\n",
            "92.44\n",
            "1\n",
            "726\n",
            "37.5\n",
            "0        169.69\n",
            "1        240.69\n",
            "2        240.69\n",
            "3        169.69\n",
            "4       1205.58\n",
            "         ...   \n",
            "4617     834.25\n",
            "4618     834.25\n",
            "4619     798.75\n",
            "4620     621.25\n",
            "4621     621.25\n",
            "Name: item_price_roubles, Length: 4622, dtype: float64\n"
          ]
        }
      ],
      "source": [
        "#1\n",
        "print(len(df))\n",
        "#2\n",
        "print(list(df.columns))\n",
        "#3\n",
        "print(max(df['item_name']))\n",
        "#4\n",
        "import matplotlib.pyplot as plt\n",
        "\n",
        "n, bins, patches = plt.hist(x=df['item_name'], bins='auto', color='#0504aa',\n",
        "                            alpha=0.7, rwidth=0.85)\n",
        "plt.grid(axis='y', alpha=0.75)\n",
        "plt.xlabel('Item')\n",
        "plt.ylabel('Frequency')\n",
        "plt.title('Frequency histogram')\n",
        "maxfreq = n.max()\n",
        "plt.show()\n",
        "#5\n",
        "#df['item_price'] = df['item_price'].apply(lambda x: float(x.replace('$','')) )\n",
        "#6\n",
        "\n",
        "plt.bar(x=df['item_name'].unique(), height=df.groupby('item_name')['item_price'].sum())\n",
        "plt.grid(axis='y', alpha=0.75)\n",
        "plt.xlabel('Item')\n",
        "plt.ylabel('income')\n",
        "plt.title('Income histogram')\n",
        "\n",
        "plt.show()\n",
        "\n",
        "#7\n",
        "print(df['item_price'].mean())\n",
        "print(df['item_price'].sum()/len(df))\n",
        "\n",
        "#8\n",
        "\n",
        "print(df.groupby('item_name')['item_name'].apply(pd.value_counts).mean())\n",
        "print(df.groupby('item_name')['item_name'].apply(pd.value_counts).min())\n",
        "print(df.groupby('item_name')['item_name'].apply(pd.value_counts).max())\n",
        "print(df.groupby('item_name')['item_name'].apply(pd.value_counts).median())\n",
        "\n",
        "#9\n",
        "\n",
        "\n",
        "#10\n",
        "df['item_price_roubles'] = pd.Series(df['item_price']*71, index=df.index)"
      ]
    },
    {
      "cell_type": "markdown",
      "id": "cf725ec6",
      "metadata": {
        "id": "cf725ec6"
      },
      "source": [
        "### Алгоритмы уменьшения размерности \n",
        "\n",
        "#### повторить эксперименты в главе 5.1 Qalitative Comparison of Multiple Algorithms статьи статьи UMAP: Uniform Manifold\n",
        "#### Approximation and Projection for Dimension Reduction (https://arxiv.org/pdf/1802.03426.pdf)\n",
        "\n",
        "#### необходимо воспроизвести все графики данной главы, соотнести выводы из статьи с вашими результатами."
      ]
    },
    {
      "cell_type": "code",
      "execution_count": null,
      "id": "0e3ac869",
      "metadata": {
        "id": "0e3ac869"
      },
      "outputs": [],
      "source": []
    }
  ],
  "metadata": {
    "colab": {
      "name": "Pandas&DimensionalityReduction.ipynb",
      "provenance": []
    },
    "kernelspec": {
      "display_name": "Python 3 (ipykernel)",
      "language": "python",
      "name": "python3"
    },
    "language_info": {
      "codemirror_mode": {
        "name": "ipython",
        "version": 3
      },
      "file_extension": ".py",
      "mimetype": "text/x-python",
      "name": "python",
      "nbconvert_exporter": "python",
      "pygments_lexer": "ipython3",
      "version": "3.8.0"
    }
  },
  "nbformat": 4,
  "nbformat_minor": 5
}
